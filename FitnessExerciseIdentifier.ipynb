{
 "cells": [
  {
   "cell_type": "markdown",
   "id": "22b3398e",
   "metadata": {},
   "source": [
    "# 🏋️‍♀️Fitness identifier Eerste iteratie "
   ]
  },
  {
   "cell_type": "markdown",
   "id": "8566751d",
   "metadata": {},
   "source": [
    "<h2 style=\"font-size:20px; color:#3B82F6;\">Inleiding</h2>\n",
    "\n",
    "In dit notebook ga ik voor het eerst experimenteren met image classification voor mijn AI-fitnessapp. In de eerste fase van dit project heb ik samen met mijn docent, Bas Michielsen, een geschikte aanpak geformuleerd voor mijn Personal Project.\n",
    "Bas raadde mij aan om zijn Clothing Classifier-project te gebruiken als eerste testbasis.\n",
    "Aan de hand van deze test wil ik, samen met hem, verder onderzoeken welke onderdelen ik kan hergebruiken en wat ik eventueel moet aanpassen voor mijn eigen project. In dit notebook documenteer ik mijn eerste test, inclusief opzet, resultaten en reflectie\n",
    "\n",
    "Voor mijn afbeeldingen ga ik een mix gebruiken uit bestaande datasets en zelfgemaakte afbeeldingen"
   ]
  },
  {
   "cell_type": "markdown",
   "id": "af6fc32c",
   "metadata": {},
   "source": [
    "<h2 style=\"font-size:20px; color:#3B82F6;\">Setup/Imports</h2>\n",
    "\n"
   ]
  }
 ],
 "metadata": {
  "kernelspec": {
   "display_name": ".venv",
   "language": "python",
   "name": "python3"
  },
  "language_info": {
   "name": "python",
   "version": "3.13.7"
  }
 },
 "nbformat": 4,
 "nbformat_minor": 5
}
