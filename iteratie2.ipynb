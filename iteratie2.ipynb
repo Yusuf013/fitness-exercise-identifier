{
 "cells": [
  {
   "cell_type": "markdown",
   "id": "e4757481",
   "metadata": {},
   "source": [
    "# 🏋️‍♀️Fitness identifier Iteratie 2"
   ]
  },
  {
   "cell_type": "markdown",
   "id": "3c1514f2",
   "metadata": {},
   "source": [
    "<h2 style=\"font-size:20px; color:#3B82F6;\">Inleiding</h2>\n",
    "\n",
    "in dit notebook wil een paar dingen gaan testen: ik maakte bij me eerste iteratie de fout dat ik mijn AI-model ging testen met afbeeldingen waarmee ik het model ook getraind had, dus wil ik nu andere afbeeldingen gaan gebruiken om een meer realistische beeld te krijgen. Verder wil ik nu ook met een kleinere subset gaan itereren, zodat ik niet lang moet wachten tijdens het trainen. Als laatste wil ik kijken of ik misschien met een hogere aantal numworkers kan trainen"
   ]
  },
  {
   "cell_type": "code",
   "execution_count": 2,
   "id": "bbaa1dc1",
   "metadata": {},
   "outputs": [
    {
     "name": "stdout",
     "output_type": "stream",
     "text": [
      "Versions: python 3.13.7 | torch 2.9.0+cpu | torchvision 0.24.0+cpu | pytorch_lightning 2.5.5\n"
     ]
    }
   ],
   "source": [
    "from PIL import ImageFile\n",
    "ImageFile.LOAD_TRUNCATED_IMAGES = True\n",
    "\n",
    "\n",
    "import pandas, platform, os\n",
    "import torch as T \n",
    "import torchvision as V\n",
    "import pytorch_lightning as L\n",
    "import torch.utils.data as D\n",
    "import torchmetrics as M\n",
    "import matplotlib.pyplot as plt\n",
    "\n",
    "\n",
    "\n",
    "\n",
    "data_path = \"dataset/data\"\n",
    "inference_path = \"reference/classification_image--clothing/dataset/inference\"\n",
    "\n",
    "T.manual_seed(42)\n",
    "\n",
    "print(\"Versions: python\", platform.python_version(), \"| torch\", T.__version__, \"| torchvision\", V.__version__, \"| pytorch_lightning\", L.__version__)\n"
   ]
  },
  {
   "cell_type": "code",
   "execution_count": 1,
   "id": "eb15c626",
   "metadata": {},
   "outputs": [
    {
     "name": "stdout",
     "output_type": "stream",
     "text": [
      "cable_flyes: 200 foto's\n",
      "incline_benchpress: 143 foto's\n",
      "machine_pulldown: 210 foto's\n",
      "pullup: 270 foto's\n",
      "romanian_deadlift: 280 foto's\n",
      "squats: 336 foto's\n"
     ]
    }
   ],
   "source": [
    "import os\n",
    "\n",
    "data_path = r\"C:\\Users\\yusuf\\OneDrive\\Documenten\\HBO ICT\\AlleGit - Github\\fitness-exercise-identifier\\reference\\classification_image--clothing\\dataset\\data\"\n",
    "\n",
    "for folder in os.listdir(data_path):\n",
    "    folder_path = os.path.join(data_path, folder)\n",
    "    if os.path.isdir(folder_path):\n",
    "        count = len([f for f in os.listdir(folder_path) if f.lower().endswith(('.jpg', '.jpeg', '.png'))])\n",
    "        print(f\"{folder}: {count} foto's\")\n"
   ]
  }
 ],
 "metadata": {
  "kernelspec": {
   "display_name": "Python 3",
   "language": "python",
   "name": "python3"
  },
  "language_info": {
   "codemirror_mode": {
    "name": "ipython",
    "version": 3
   },
   "file_extension": ".py",
   "mimetype": "text/x-python",
   "name": "python",
   "nbconvert_exporter": "python",
   "pygments_lexer": "ipython3",
   "version": "3.13.7"
  }
 },
 "nbformat": 4,
 "nbformat_minor": 5
}
